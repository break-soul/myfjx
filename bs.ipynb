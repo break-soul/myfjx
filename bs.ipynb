{
 "cells": [
  {
   "cell_type": "code",
   "execution_count": 1,
   "metadata": {},
   "outputs": [],
   "source": [
    "%load_ext Cython"
   ]
  },
  {
   "cell_type": "code",
   "execution_count": 2,
   "metadata": {},
   "outputs": [],
   "source": [
    "import re\n",
    "import json\n",
    "from enum import Enum\n",
    "from docx import Document\n",
    "from pydantic import BaseModel\n",
    "from typing import Generator"
   ]
  },
  {
   "cell_type": "code",
   "execution_count": 3,
   "metadata": {},
   "outputs": [],
   "source": [
    "class Status(Enum):\n",
    "    TITLE1=1\n",
    "    TITLE2=2\n",
    "    TITLE3=3\n",
    "    TEXT=4\n",
    "    NONE=5\n",
    "    FANG=6"
   ]
  },
  {
   "cell_type": "code",
   "execution_count": 4,
   "metadata": {},
   "outputs": [],
   "source": [
    "def get_content() -> Generator[str,None,None]:\n",
    "    document = Document(\"res\\苗药方剂学_pre1.docx\")\n",
    "    contents:list[str] = document.paragraphs\n",
    "    for content in contents:\n",
    "        if content == \"\\n\" or content == \"\":\n",
    "            continue\n",
    "        yield content.text"
   ]
  },
  {
   "cell_type": "code",
   "execution_count": 5,
   "metadata": {},
   "outputs": [],
   "source": [
    "title_1 = re.compile(\"第.+章\")\n",
    "title_2 = re.compile(\"(一|二|三|四|五|六|七|八|九|十)+、\")\n",
    "title_3 = re.compile(\"^(\\(|（)\")\n",
    "text = re.compile(\"^\\[\")\n",
    "nd = re.compile(\".?方(:|：|])\")"
   ]
  },
  {
   "cell_type": "code",
   "execution_count": 6,
   "metadata": {},
   "outputs": [],
   "source": [
    "def classify(txt:str) -> Status:\n",
    "    if title_1.findall(txt):\n",
    "        return Status.TITLE1\n",
    "    elif title_2.findall(txt):\n",
    "        return Status.TITLE2\n",
    "    elif title_3.findall(txt):\n",
    "        return Status.TITLE3\n",
    "    elif nd.findall(txt):\n",
    "        return Status.FANG\n",
    "    elif text.findall(txt):\n",
    "        return Status.TEXT\n",
    "    else:\n",
    "        return Status.NONE"
   ]
  },
  {
   "cell_type": "code",
   "execution_count": 7,
   "metadata": {},
   "outputs": [],
   "source": [
    "class Node(BaseModel):\n",
    "    用方:str|None = None\n",
    "    用法:str|None = None\n",
    "    方解:str|None = None\n",
    "    主治:str|None = None\n",
    "    治则:str|None = None\n",
    "    属经:str|None = None\n",
    "    注意:str|None = None"
   ]
  },
  {
   "cell_type": "code",
   "execution_count": 22,
   "metadata": {},
   "outputs": [],
   "source": [
    "class Profile(BaseModel):\n",
    "    t1:int = 0\n",
    "    t2:int = 0\n",
    "    t3:int = 0\n",
    "    text:int = 0\n",
    "    fang:int = 0\n",
    "    none:int = 0\n",
    "    用方:int = 0\n",
    "    用法:int = 0\n",
    "    方解:int = 0\n",
    "    主治:int = 0\n",
    "    治则:int = 0\n",
    "    属经:int = 0\n",
    "    注意:int = 0"
   ]
  },
  {
   "cell_type": "code",
   "execution_count": 23,
   "metadata": {},
   "outputs": [],
   "source": [
    "profile = Profile()"
   ]
  },
  {
   "cell_type": "code",
   "execution_count": 28,
   "metadata": {},
   "outputs": [],
   "source": [
    "# %%cython\n",
    "# 用方=1546, 用法=1904, 方解=1911, 主治=398, 治则=439, 属经=431, 注意=1\n",
    "def node(value:str,previous:dict,node_id:int):\n",
    "    try:\n",
    "        nodes = previous[\"data\"]\n",
    "    except KeyError:\n",
    "        nodes = list()\n",
    "        previous[\"data\"] = nodes\n",
    "\n",
    "    if node_id == 0 or len(nodes) == 0:\n",
    "        node = Node()\n",
    "        nodes.append(node)\n",
    "    elif node_id == 1:\n",
    "        node = nodes[-1]\n",
    "    \n",
    "    value = value.split(\"]\")\n",
    "    node_txt = str(value[-1])\n",
    "\n",
    "    if node_id == 0:\n",
    "        node.用方 = node_txt\n",
    "    elif str(value[0]).find(\"用法\") != -1:\n",
    "        node.用法 = node_txt\n",
    "    elif str(value[0]).find(\"方解\") != -1:\n",
    "        node.方解 = node_txt\n",
    "    elif str(value[0]).find(\"主治\") != -1:\n",
    "        node.主治 = node_txt\n",
    "    elif str(value[0]).find(\"治则\") != -1 or str(value[0]).find(\"佳合蒙\") != -1:\n",
    "        node.治则 = node_txt\n",
    "    elif str(value[0]).find(\"属经\") != -1 or str(value[0]).find(\"兴冷\") != -1:\n",
    "        node.属经 = node_txt\n",
    "    elif str(value[0]).find(\"注意\") != -1:\n",
    "        node.注意 = node_txt\n",
    "    else:\n",
    "        print(str(node_id)+\":\"+node_txt)\n",
    "\n",
    "    return node_txt"
   ]
  },
  {
   "cell_type": "code",
   "execution_count": 29,
   "metadata": {},
   "outputs": [],
   "source": [
    "data = dict()\n",
    "contents = get_content()\n",
    "\n",
    "# t1=16, t2=212, t3=579, text=5084, fang=1546, none=1057\n",
    "\n",
    "# profile from 5.4s to 2s 60%+ upper\n",
    "\n",
    "# 通过短路求值来简化条件语句，减少不必要的条件判断，从而提高代码执行效率。\n",
    "for value in contents:\n",
    "    match classify(value):\n",
    "        case Status.TEXT:\n",
    "            node_id=1\n",
    "            txt = node(value,previous,node_id)\n",
    "        case Status.FANG:\n",
    "            node_id = 0\n",
    "            txt = node(value,previous,node_id)\n",
    "        case Status.NONE:\n",
    "            try:\n",
    "                txt = txt + value\n",
    "            except NameError:\n",
    "                try:\n",
    "                    title = previous[\"title\"]\n",
    "                except KeyError:\n",
    "                    title = list()\n",
    "                    previous[\"title\"] = title\n",
    "                finally:\n",
    "                    title.append(value)\n",
    "        case Status.TITLE3:\n",
    "            try:\n",
    "                del txt\n",
    "            except NameError:\n",
    "                pass\n",
    "            tt3 = dict()\n",
    "            tt2[value] = tt3\n",
    "            previous = tt3\n",
    "        case Status.TITLE2:\n",
    "            try:\n",
    "                del txt\n",
    "            except NameError:\n",
    "                pass\n",
    "            tt2 = dict()\n",
    "            tt1[value] = tt2\n",
    "            previous = tt2\n",
    "        case Status.TITLE1:\n",
    "            try:\n",
    "                del txt\n",
    "            except NameError:\n",
    "                pass\n",
    "            tt1 = dict()\n",
    "            data[value] = tt1\n",
    "            previous = tt1"
   ]
  },
  {
   "cell_type": "code",
   "execution_count": 18,
   "metadata": {},
   "outputs": [],
   "source": []
  },
  {
   "cell_type": "code",
   "execution_count": null,
   "metadata": {},
   "outputs": [],
   "source": []
  }
 ],
 "metadata": {
  "kernelspec": {
   "display_name": "bs",
   "language": "python",
   "name": "python3"
  },
  "language_info": {
   "codemirror_mode": {
    "name": "ipython",
    "version": 3
   },
   "file_extension": ".py",
   "mimetype": "text/x-python",
   "name": "python",
   "nbconvert_exporter": "python",
   "pygments_lexer": "ipython3",
   "version": "3.10.9"
  },
  "orig_nbformat": 4,
  "vscode": {
   "interpreter": {
    "hash": "65b5f0ec3820e51eb68dd9c5c40d12cf5f84f9cf0f29f9df782ccdb47b8dcffc"
   }
  }
 },
 "nbformat": 4,
 "nbformat_minor": 2
}
