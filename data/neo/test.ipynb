{
 "cells": [
  {
   "cell_type": "code",
   "execution_count": 1,
   "metadata": {},
   "outputs": [],
   "source": [
    "import json\n",
    "from py2neo import Node, Relationship, Graph, NodeMatcher, RelationshipMatcher"
   ]
  },
  {
   "cell_type": "code",
   "execution_count": 2,
   "metadata": {},
   "outputs": [],
   "source": [
    "graph = Graph(\"neo4j://10.130.32.3:7687\", auth=(\"neo4j\", \"12345678\"))\n",
    "node_matcher = NodeMatcher(graph)"
   ]
  },
  {
   "cell_type": "code",
   "execution_count": 3,
   "metadata": {},
   "outputs": [],
   "source": [
    "with open(\"../res/苗药方剂学_pre3.json\",\"r\") as file:\n",
    "    data = json.load(file)"
   ]
  },
  {
   "cell_type": "code",
   "execution_count": 4,
   "metadata": {},
   "outputs": [],
   "source": [
    "def clean_db():\n",
    "    pt = node_matcher.match().all()\n",
    "    for i in pt:\n",
    "        graph.delete(i)"
   ]
  },
  {
   "cell_type": "code",
   "execution_count": 5,
   "metadata": {},
   "outputs": [],
   "source": [
    "def new_node(parent, child:Node):\n",
    "    graph.create(parent)\n",
    "    graph.create(Relationship(parent, \"用方\", child))"
   ]
  },
  {
   "cell_type": "code",
   "execution_count": 6,
   "metadata": {},
   "outputs": [],
   "source": [
    "def new_child(parent, child:Node):\n",
    "    graph.create(parent)\n",
    "    graph.create(Relationship(parent, \"属于\", child))"
   ]
  },
  {
   "cell_type": "code",
   "execution_count": 7,
   "metadata": {},
   "outputs": [],
   "source": [
    "def set_node(parent:Node, nodes:list[dict]):\n",
    "    for node in nodes:\n",
    "        try:\n",
    "            child = Node(\"Node\", **node)\n",
    "        except:\n",
    "            child = Node(\"Node\", node)\n",
    "        new_node(parent, child)"
   ]
  },
  {
   "cell_type": "code",
   "execution_count": 8,
   "metadata": {},
   "outputs": [],
   "source": [
    "def set_title(parent:Node, child_data:dict, name:str):\n",
    "    child_names = child_data.get(\"child\",None)\n",
    "    title = Node(\"Title\",name=name, 信息=\";\".join(child_data.get(\"title\",list())),alias=\",\".join(child_data.get(\"alias\",list())))\n",
    "    new_child(parent, title)\n",
    "    if child_names is not None:\n",
    "        for child_name in child_names:\n",
    "            set_title(title, child_data[child_name],child_name)\n",
    "    else:\n",
    "        nodes = child_data.get(\"data\",None)\n",
    "        if nodes is not None:\n",
    "            set_node(title, nodes)\n",
    "        else:\n",
    "            return None"
   ]
  },
  {
   "cell_type": "code",
   "execution_count": 9,
   "metadata": {},
   "outputs": [],
   "source": [
    "def main():\n",
    "    clean_db()\n",
    "    book = Node(\"Book\", name=\"苗药方剂\")\n",
    "    graph.create(book)\n",
    "    child_names = data[\"child\"]\n",
    "    for child_name in child_names:\n",
    "        set_title(book, data[child_name],child_name)"
   ]
  },
  {
   "cell_type": "code",
   "execution_count": 11,
   "metadata": {},
   "outputs": [],
   "source": [
    "main()"
   ]
  },
  {
   "cell_type": "code",
   "execution_count": null,
   "metadata": {},
   "outputs": [],
   "source": [
    "clean_db()"
   ]
  },
  {
   "cell_type": "code",
   "execution_count": 81,
   "metadata": {},
   "outputs": [],
   "source": [
    "pt = node_matcher.match().all()"
   ]
  },
  {
   "cell_type": "code",
   "execution_count": null,
   "metadata": {},
   "outputs": [],
   "source": [
    "pt"
   ]
  }
 ],
 "metadata": {
  "kernelspec": {
   "display_name": "bs",
   "language": "python",
   "name": "python3"
  },
  "language_info": {
   "codemirror_mode": {
    "name": "ipython",
    "version": 3
   },
   "file_extension": ".py",
   "mimetype": "text/x-python",
   "name": "python",
   "nbconvert_exporter": "python",
   "pygments_lexer": "ipython3",
   "version": "3.10.10"
  },
  "orig_nbformat": 4
 },
 "nbformat": 4,
 "nbformat_minor": 2
}
